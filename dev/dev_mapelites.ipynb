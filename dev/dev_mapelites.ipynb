{
 "cells": [
  {
   "cell_type": "markdown",
   "id": "1f2196ad",
   "metadata": {},
   "source": [
    "Import necessary libraries"
   ]
  },
  {
   "cell_type": "code",
   "execution_count": 1,
   "id": "f03cc39a",
   "metadata": {},
   "outputs": [],
   "source": [
    "import numpy as np\n",
    "import matplotlib.pyplot as plt\n",
    "import random"
   ]
  },
  {
   "cell_type": "markdown",
   "id": "114c9715",
   "metadata": {},
   "source": [
    "Setup configuration"
   ]
  },
  {
   "cell_type": "code",
   "execution_count": 8,
   "id": "83cbb891",
   "metadata": {},
   "outputs": [],
   "source": [
    "config = {\n",
    "    'resolution': 4,\n",
    "    'num_gens': 20,\n",
    "    'num_children': 4,\n",
    "    'mut_sigma': 0.1,\n",
    "    'init_samples': 3,\n",
    "}\n",
    "\n",
    "domain = {\n",
    "    'name': 'debug',\n",
    "    'features': [1,2],\n",
    "    'dof': 6,\n",
    "    'nfeatures': 2,\n",
    "    'par_ranges': np.array([[0, 0, 0, 0],[100, 100, 5, 5]]),\n",
    "    'fit_range': np.array([-5, 5]),\n",
    "}\n",
    "\n",
    "def fitness_fun(population, domain):\n",
    "    fitness = np.random.rand(1,population.shape[0])\n",
    "    fitness[fitness > 1] = 1.\n",
    "    fitness[fitness < 0] = 0.\n",
    "    features = np.random.rand(domain.get('nfeatures'),population.shape[0])\n",
    "    features[features > 1] = 1.\n",
    "    features[features < 0] = 0.\n",
    "    return fitness, features"
   ]
  },
  {
   "cell_type": "markdown",
   "id": "fd64b177",
   "metadata": {},
   "source": [
    "Method used to create an archive for MAP-Elites"
   ]
  },
  {
   "cell_type": "code",
   "execution_count": 3,
   "id": "e1d4919a",
   "metadata": {},
   "outputs": [],
   "source": [
    "def create_archive(domain, config):\n",
    "    edges = []\n",
    "    res = []\n",
    "    for i in range(len(domain.get('features'))):\n",
    "        edges.append(np.linspace(0, 1, config.get('resolution')))\n",
    "        res.append(config.get('resolution'));\n",
    "    \n",
    "    empty_archive = np.empty((res))\n",
    "    empty_archive[:] = np.nan\n",
    "    fitness = empty_archive\n",
    "    genes = empty_archive\n",
    "    genes = np.expand_dims(genes, 2)\n",
    "    genes = np.tile(genes, (1, 1, domain.get('dof')))\n",
    "    features = np.tile(empty_archive, (domain.get('nfeatures'), 1, 1))\n",
    "    \n",
    "    archive = {'edges': edges,\n",
    "               'resolution': config.get('resolution'),\n",
    "               'fitness': fitness, \n",
    "               'features': features,\n",
    "               'genes': genes,}\n",
    "    return archive\n",
    "\n",
    "def vis_archive(archive):\n",
    "    plt.imshow(archive.get('fitness'), cmap='winter')\n",
    "    plt.clim(0,1)\n",
    "    plt.show()\n",
    "    \n"
   ]
  },
  {
   "cell_type": "markdown",
   "id": "6a452a60",
   "metadata": {},
   "source": [
    "Method used to create children from a selection of parents"
   ]
  },
  {
   "cell_type": "code",
   "execution_count": 4,
   "id": "a1d746f0",
   "metadata": {},
   "outputs": [],
   "source": [
    "def create_children(archive, domain, config):\n",
    "    \n",
    "    # Randomly select parents and copy to children\n",
    "    pool = archive.get('genes')\n",
    "    pool = pool.reshape((pool.shape[0]*pool.shape[1], pool.shape[2]))\n",
    "    selection = np.random.randint(0, pool.shape[0], config.get('num_children'))\n",
    "    children = np.take(pool, selection, axis=0)\n",
    "    \n",
    "    # Mutate children\n",
    "    ranges = domain.get('par_ranges')\n",
    "    mutation = np.random.randn(config.get('num_children'),domain.get('dof')) * config.get('mut_sigma')\n",
    "    mutation = np.transpose(mutation) * (ranges[1]-ranges[0])\n",
    "    children = children + np.transpose(mutation)\n",
    "    \n",
    "    #TODO check par ranges\n",
    "    \n",
    "    return children\n"
   ]
  },
  {
   "cell_type": "markdown",
   "id": "11a5801b",
   "metadata": {},
   "source": [
    "Method for niche competition"
   ]
  },
  {
   "cell_type": "code",
   "execution_count": 5,
   "id": "ead49383",
   "metadata": {},
   "outputs": [],
   "source": [
    "def niche_compete(fitness, features, archive, domain, config):\n",
    "    assert (features >= 0).all(),\"Feature values smaller than 0, assumed to be normalized between [0,1]\"\n",
    "    assert (features <= 1).all(),\"Feature values larger than 1, assumed to be normalized between [0,1]\"\n",
    "    assert (fitness >= 0).all(),\"Fitness values smaller than 0, assumed to be normalized between [0,1]\"\n",
    "    assert (fitness <= 1).all(),\"Fitness values larger than 1, assumed to be normalized between [0,1]\"\n",
    "    \n",
    "    # Discretize features into bins\n",
    "    edges = np.linspace(0, 1, num=config.get('resolution'))\n",
    "    bin_assignment = np.digitize(features,edges)\n",
    "    bin_assignment = bin_assignment - 1\n",
    "    \n",
    "    ## Find highest fitness per bin\n",
    "    # Sort bins by fitness, then by bin coordinates\n",
    "    bin_fitness = np.vstack([bin_assignment, fitness])\n",
    "    num_features = bin_assignment.shape[0]\n",
    "    idx = (-1*bin_fitness[num_features, :]).argsort()\n",
    "    bin_fitness = bin_fitness[:, idx]\n",
    "    for f in range(num_features - 1, -1, -1):\n",
    "        idy = bin_fitness[f, :].argsort(kind='mergesort')\n",
    "        bin_fitness = bin_fitness[:, idy]\n",
    "        idx = idx[idy]    \n",
    "    unq, ind = np.unique(bin_fitness[0:2,:], return_inverse=False, return_index=True, axis=1)    \n",
    "    best_index = idx[ind]\n",
    "    best_bin = bin_assignment[:, best_index]\n",
    "\n",
    "    # Get replacement IDs in both archive and candidate arrays\n",
    "    replaced = []\n",
    "    replacement = []\n",
    "    for f in range(len(best_index)):\n",
    "        archive_fitness = archive.get('fitness')\n",
    "        bin_fitness = archive_fitness[best_bin[0,f],best_bin[1,f]]\n",
    "        if np.isnan(bin_fitness) or bin_fitness < fitness[:,best_index[f]]:\n",
    "            replacement.append(best_index[f])\n",
    "            replaced.append([best_bin[0,f],best_bin[1,f]])\n",
    "\n",
    "    return replaced, replacement"
   ]
  },
  {
   "cell_type": "markdown",
   "id": "19e79ef7",
   "metadata": {},
   "source": [
    "Replacement function for archive"
   ]
  },
  {
   "cell_type": "code",
   "execution_count": 6,
   "id": "0723c2e6",
   "metadata": {},
   "outputs": [],
   "source": [
    "def update_map(replaced, replacement, archive, fitness, genes, features):\n",
    "    # Update fitness values\n",
    "    a_fitness = archive.get('fitness')\n",
    "    for f in range(len(replaced)):\n",
    "        a_fitness[replaced[f][0],replaced[f][1]] = fitness[:,replacement[f]]\n",
    "    archive.update({'fitness': a_fitness})\n",
    "    \n",
    "    # Update feature values\n",
    "    a_features = archive.get('features')\n",
    "    for f in range(len(replaced)):\n",
    "        a_features[:,replaced[f][0],replaced[f][1]] = features[:,replacement[f]]\n",
    "    archive.update({'features': a_features})\n",
    "    \n",
    "    # Update gene values\n",
    "    a_genes = archive.get('genes')\n",
    "    for f in range(len(replaced)):\n",
    "        a_genes[replaced[f][0],replaced[f][1],:] = genes[replacement[f],:]\n",
    "    archive.update({'genes': a_genes})\n",
    "    \n",
    "    return archive\n"
   ]
  },
  {
   "cell_type": "markdown",
   "id": "5e0e8b8b",
   "metadata": {},
   "source": [
    "MAP-Elites algorithm"
   ]
  },
  {
   "cell_type": "code",
   "execution_count": 14,
   "id": "4a01cb58",
   "metadata": {},
   "outputs": [
    {
     "name": "stdout",
     "output_type": "stream",
     "text": [
      "Generation: 0/20\n",
      "Generation: 1/20\n",
      "Generation: 2/20\n",
      "Generation: 3/20\n",
      "Generation: 4/20\n",
      "Generation: 5/20\n",
      "Generation: 6/20\n",
      "Generation: 7/20\n",
      "Generation: 8/20\n",
      "Generation: 9/20\n",
      "Generation: 10/20\n",
      "Generation: 11/20\n",
      "Generation: 12/20\n",
      "Generation: 13/20\n",
      "Generation: 14/20\n",
      "Generation: 15/20\n",
      "Generation: 16/20\n",
      "Generation: 17/20\n",
      "Generation: 18/20\n",
      "Generation: 19/20\n"
     ]
    },
    {
     "data": {
      "image/png": "[encoded data removed]",
      "text/plain": [
       "<Figure size 432x288 with 1 Axes>"
      ]
     },
     "metadata": {
      "needs_background": "light"
     },
     "output_type": "display_data"
    }
   ],
   "source": [
    "# Initialization\n",
    "random_pop = np.random.rand(config.get('init_samples'),domain.get('dof'))\n",
    "archive = create_archive(domain, config)\n",
    "fitness, features = fitness_fun(random_pop, domain)\n",
    "replaced, replacement = niche_compete(fitness, features, archive, domain, config)\n",
    "archive = update_map(replaced, replacement, archive, fitness, random_pop, features)\n",
    "\n",
    "# Evolution\n",
    "for iGen in range(config.get('num_gens')):\n",
    "    print('Generation: ' + str(iGen) + '/' + str(config.get('num_gens')))\n",
    "    children = np.array([])\n",
    "    while children.shape[0] < config.get('num_children'):\n",
    "        new_children = create_children(archive, domain, config)\n",
    "        children = np.vstack([children, new_children]) if children.size else new_children\n",
    "\n",
    "    fitness, features = fitness_fun(children, domain)\n",
    "    replaced, replacement = niche_compete(fitness, features, archive, domain, config)\n",
    "    archive = update_map(replaced, replacement, archive, fitness, children, features)\n",
    "\n",
    "vis_archive(archive)\n",
    "        \n",
    "\n"
   ]
  },
  {
   "cell_type": "code",
   "execution_count": null,
   "id": "0d5d1fb0",
   "metadata": {},
   "outputs": [],
   "source": []
  },
  {
   "cell_type": "code",
   "execution_count": null,
   "id": "8b70fa40",
   "metadata": {},
   "outputs": [],
   "source": []
  }
 ],
 "metadata": {
  "kernelspec": {
   "display_name": "Python 3 (ipykernel)",
   "language": "python",
   "name": "python3"
  },
  "language_info": {
   "codemirror_mode": {
    "name": "ipython",
    "version": 3
   },
   "file_extension": ".py",
   "mimetype": "text/x-python",
   "name": "python",
   "nbconvert_exporter": "python",
   "pygments_lexer": "ipython3",
   "version": "3.9.12"
  }
 },
 "nbformat": 4,
 "nbformat_minor": 5
}
