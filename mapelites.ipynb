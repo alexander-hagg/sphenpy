{
 "cells": [
  {
   "cell_type": "markdown",
   "id": "1f2196ad",
   "metadata": {},
   "source": [
    "Import necessary libraries"
   ]
  },
  {
   "cell_type": "code",
   "execution_count": 91,
   "id": "f03cc39a",
   "metadata": {},
   "outputs": [],
   "source": [
    "import numpy as np\n",
    "import random"
   ]
  },
  {
   "cell_type": "markdown",
   "id": "114c9715",
   "metadata": {},
   "source": [
    "Setup configuration"
   ]
  },
  {
   "cell_type": "code",
   "execution_count": 75,
   "id": "83cbb891",
   "metadata": {},
   "outputs": [],
   "source": [
    "config = {\n",
    "    'resolution': 10,\n",
    "    'num_gens': 5,\n",
    "    'num_children': 4,\n",
    "}\n",
    "\n",
    "domain = {\n",
    "    'name': 'debug',\n",
    "    'features': [1,2],\n",
    "    'dof': 16,\n",
    "    'nfeatures': 2,\n",
    "}"
   ]
  },
  {
   "cell_type": "markdown",
   "id": "fd64b177",
   "metadata": {},
   "source": [
    "Method used to create an archive for MAP-Elites"
   ]
  },
  {
   "cell_type": "code",
   "execution_count": 195,
   "id": "e1d4919a",
   "metadata": {},
   "outputs": [],
   "source": [
    "def create_archive(domain, config):\n",
    "    \n",
    "    edges = []\n",
    "    res = []\n",
    "    for i in range(len(domain.get('features'))):\n",
    "        edges.append(np.linspace(0, 1, config.get('resolution')))\n",
    "        res.append(config.get('resolution'));\n",
    "    \n",
    "    empty_archive = np.empty((res))\n",
    "    empty_archive[:] = np.nan\n",
    "    fitness = empty_archive\n",
    "    genes = empty_archive\n",
    "    genes = np.expand_dims(genes, 2)\n",
    "    genes = np.tile(genes, (1, 1, domain.get('dof')))\n",
    "    features = np.tile(empty_archive, (domain.get('nfeatures'), 1, 1))\n",
    "    \n",
    "    archive = {'edges': edges, \n",
    "               'fitness': fitness, \n",
    "               'features': features,\n",
    "               'genes': genes,\n",
    "               'resolution': config.get('resolution'),}\n",
    "    return archive\n"
   ]
  },
  {
   "cell_type": "markdown",
   "id": "6a452a60",
   "metadata": {},
   "source": [
    "Method used to create children from a selection of parents"
   ]
  },
  {
   "cell_type": "code",
   "execution_count": 193,
   "id": "a1d746f0",
   "metadata": {},
   "outputs": [],
   "source": [
    "def create_children(archive, domain, config):\n",
    "    \n",
    "    # Randomly select parents and copy to children\n",
    "    pool = archive.get('genes')\n",
    "    pool = pool.reshape((pool.shape[0]*pool.shape[1], pool.shape[2]))\n",
    "    selection = np.random.randint(0, pool.shape[0], config.get('num_children'))\n",
    "    children = np.take(pool, selection, axis=0)\n",
    "    \n",
    "    # Mutate children\n",
    "    \n",
    "    return children\n"
   ]
  },
  {
   "cell_type": "markdown",
   "id": "5e0e8b8b",
   "metadata": {},
   "source": [
    "MAP-Elites algorithm"
   ]
  },
  {
   "cell_type": "code",
   "execution_count": 201,
   "id": "4a01cb58",
   "metadata": {},
   "outputs": [
    {
     "name": "stdout",
     "output_type": "stream",
     "text": [
      "Generation: 0/5\n",
      "Generation: 1/5\n",
      "Generation: 2/5\n",
      "Generation: 3/5\n",
      "Generation: 4/5\n"
     ]
    }
   ],
   "source": [
    "archive = create_archive(domain, config)\n",
    "\n",
    "for iGen in range(config.get('num_gens')):\n",
    "    print('Generation: ' + str(iGen) + '/' + str(config.get('num_gens')))\n",
    "    children = np.array([])\n",
    "    while children.shape[0] < config.get('num_children'):\n",
    "        new_children = create_children(archive, domain, config)\n",
    "        children = np.vstack([children, new_children]) if children.size else new_children\n"
   ]
  }
 ],
 "metadata": {
  "kernelspec": {
   "display_name": "Python 3 (ipykernel)",
   "language": "python",
   "name": "python3"
  },
  "language_info": {
   "codemirror_mode": {
    "name": "ipython",
    "version": 3
   },
   "file_extension": ".py",
   "mimetype": "text/x-python",
   "name": "python",
   "nbconvert_exporter": "python",
   "pygments_lexer": "ipython3",
   "version": "3.9.12"
  }
 },
 "nbformat": 4,
 "nbformat_minor": 5
}
